{
  "metadata": {
    "language_info": {
      "codemirror_mode": {
        "name": "python",
        "version": 3
      },
      "file_extension": ".py",
      "mimetype": "text/x-python",
      "name": "python",
      "nbconvert_exporter": "python",
      "pygments_lexer": "ipython3",
      "version": "3.8"
    },
    "kernelspec": {
      "name": "python",
      "display_name": "Pyolite",
      "language": "python"
    }
  },
  "nbformat_minor": 4,
  "nbformat": 4,
  "cells": [
    {
      "cell_type": "markdown",
      "source": "# \"My Jupyter Notebook on IBM Watson Studio\"",
      "metadata": {}
    },
    {
      "cell_type": "markdown",
      "source": "**Misbah Sabir** Biomedical Enginner",
      "metadata": {}
    },
    {
      "cell_type": "markdown",
      "source": "*Now a Days artificial intelligence has become most important part of every field, thats why as a biomedical enginner i have choose this to earn more*",
      "metadata": {}
    },
    {
      "cell_type": "markdown",
      "source": "### Addition",
      "metadata": {}
    },
    {
      "cell_type": "code",
      "source": "5+9",
      "metadata": {
        "trusted": true
      },
      "execution_count": 2,
      "outputs": [
        {
          "execution_count": 2,
          "output_type": "execute_result",
          "data": {
            "text/plain": "14"
          },
          "metadata": {}
        }
      ]
    },
    {
      "cell_type": "markdown",
      "source": "### Subtraction",
      "metadata": {}
    },
    {
      "cell_type": "code",
      "source": "10-5",
      "metadata": {
        "trusted": true
      },
      "execution_count": 3,
      "outputs": [
        {
          "execution_count": 3,
          "output_type": "execute_result",
          "data": {
            "text/plain": "5"
          },
          "metadata": {}
        }
      ]
    },
    {
      "cell_type": "markdown",
      "source": "### Multiplication",
      "metadata": {}
    },
    {
      "cell_type": "code",
      "source": "10*5",
      "metadata": {
        "trusted": true
      },
      "execution_count": 4,
      "outputs": [
        {
          "execution_count": 4,
          "output_type": "execute_result",
          "data": {
            "text/plain": "50"
          },
          "metadata": {}
        }
      ]
    },
    {
      "cell_type": "markdown",
      "source": "### Bullet List\n* Alto*\n* City*\n* Cultus*\n",
      "metadata": {}
    },
    {
      "cell_type": "markdown",
      "source": "### Number List\n1. Alto\n2. City\n3. Cultus",
      "metadata": {}
    },
    {
      "cell_type": "markdown",
      "source": "### Table\n|Name|Age|Gender|\n|----|---|------|\n|Ayesha|22|female|\n|",
      "metadata": {}
    }
  ]
}